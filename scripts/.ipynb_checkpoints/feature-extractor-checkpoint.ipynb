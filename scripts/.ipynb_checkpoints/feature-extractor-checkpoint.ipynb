{
 "cells": [
  {
   "cell_type": "code",
   "execution_count": 324,
   "metadata": {},
   "outputs": [],
   "source": [
    "import json\n",
    "import itertools\n",
    "\n",
    "with open('../geojson-data/smr.geojson') as f:\n",
    "    city = json.load(f)"
   ]
  },
  {
   "cell_type": "code",
   "execution_count": 326,
   "metadata": {},
   "outputs": [],
   "source": [
    "with_other_tags = [f for f in city['features'] if 'other_tags' in f['properties'].keys()]\n",
    "\n",
    "def str_to_dict(tags):\n",
    "    return json.loads('{' + tags.replace('=>', ': ') + '}', strict=False)\n",
    "\n",
    "for f in with_other_tags:\n",
    "    tags = f['properties']['other_tags']\n",
    "    if type(tags) == type(''):\n",
    "        f['properties']['other_tags'] = str_to_dict(tags)\n",
    "        \n",
    "with_amenity = [f for f in with_other_tags if 'amenity' in f['properties']['other_tags'].keys()]"
   ]
  },
  {
   "cell_type": "code",
   "execution_count": 328,
   "metadata": {},
   "outputs": [],
   "source": [
    "relevant_amenities = ['fast_food', 'cafe', 'restaurant', 'nightclub', 'stripclub', \n",
    "                 'pub', 'bar', 'courthouse', 'register_office', 'townhall', \n",
    "                 'public_building', 'police', 'place_of_worship', 'fountain', \n",
    "                 'library', 'theatre', 'clinic', 'hospital', 'bank', 'university',\n",
    "                 'school', 'cinema']\n",
    "\n",
    "entries = {a: [] for a in relevant_amenities}\n",
    "for feature in with_amenity:\n",
    "    amenity = feature['properties']['other_tags']['amenity']\n",
    "    if amenity in relevant_amenities:\n",
    "        entrie = [feature['geometry']['coordinates']]\n",
    "        if 'name' in feature['properties'].keys():\n",
    "            entrie.append(feature['properties']['name'])\n",
    "        entries[amenity].append(entrie)"
   ]
  },
  {
   "cell_type": "code",
   "execution_count": 329,
   "metadata": {},
   "outputs": [],
   "source": [
    "without_amenity = [f for f in with_other_tags if f not in with_amenity]\n",
    "\n",
    "def subset(tag, value=None, data=with_other_tags): \n",
    "    res = [f for f in data if tag in f['properties']['other_tags'].keys()]\n",
    "    if not value is None:\n",
    "        res = [f for f in res if f['properties']['other_tags'][tag] == value]\n",
    "    return res\n",
    "\n",
    "shit_pairs = [['merkator_shift:bing'], \n",
    "              ['crossing'], \n",
    "              ['traffic_signals', 'signal'],            \n",
    "              ['natural', 'tree'], \n",
    "              ['entrance'], \n",
    "              ['bicycle'], \n",
    "              ['power'], \n",
    "              ['foot'], \n",
    "              ['building:levels'], \n",
    "              ['name:en'],\n",
    "              ['noexit'],\n",
    "              ['phone'],\n",
    "              ['bench'],\n",
    "              ['traffic_calming'],\n",
    "              ['shop', 'kiosk'], \n",
    "              ['shop', 'laundry'], \n",
    "              ['shop', 'hairdresser'], \n",
    "              ['addr:city'], \n",
    "              ['access'], \n",
    "              ['vehicle'], \n",
    "              ['building'], \n",
    "              ['direction']]\n",
    "\n",
    "shit = list(itertools.chain(*[subset(*s) for s in shit_pairs]))\n",
    "features_without_shit = [f for f in with_other_tags if f not in shit]\n",
    "\n",
    "def retreive(tag, value=None): \n",
    "    res = [f for f in features_without_shit if tag in f['properties']['other_tags'].keys()]\n",
    "    if not value is None:\n",
    "        res = [ f for f in res if f['properties']['other_tags'][tag] == value]\n",
    "    return res"
   ]
  },
  {
   "cell_type": "code",
   "execution_count": 336,
   "metadata": {},
   "outputs": [
    {
     "data": {
      "text/plain": [
       "470"
      ]
     },
     "execution_count": 336,
     "metadata": {},
     "output_type": "execute_result"
    }
   ],
   "source": [
    "len(retrieved['public_transport'])"
   ]
  },
  {
   "cell_type": "code",
   "execution_count": 333,
   "metadata": {},
   "outputs": [
    {
     "data": {
      "text/plain": [
       "True"
      ]
     },
     "execution_count": 333,
     "metadata": {},
     "output_type": "execute_result"
    }
   ],
   "source": [
    "retrieved = {\n",
    "    'shit': shit,\n",
    "    'public_transport': retreive('public_transport'),\n",
    "    'tram_stop': retreive('railway', 'tram_stop'),\n",
    "    'subway_station': retreive('station', 'subway'),\n",
    "    'railway_station': [f for f in retreive('railway', 'station') if f not in subway_stations],\n",
    "    'shop': retreive('shop'),\n",
    "    'sport_center': retreive('leisure', 'sports_centre'),\n",
    "    'playground': retreive('leisure', 'playground'),\n",
    "    'railway': retreive('railway'),\n",
    "    'office': retreive('office'),\n",
    "    'monument': retreive('historic', 'monument'),\n",
    "    'memorial': retreive('historic', 'memorial'),\n",
    "    'fitness_centre': retreive('leisure', 'fitness_centre'),\n",
    "    'motel': retreive('tourism', 'motel'),\n",
    "    'hotel': retreive('tourism', 'hotel'),\n",
    "    'hostel': retreive('tourism', 'hostel'),\n",
    "    'artwork': retreive('tourism', 'artwork')\n",
    "}\n",
    "used = list(itertools.chain(*[l for l in list(retrieved.values())]))\n",
    "misc = [f for f in without_amenity if f not in used][1:]\n",
    "retrieved.pop('shit', None)\n",
    "True"
   ]
  },
  {
   "cell_type": "code",
   "execution_count": 314,
   "metadata": {},
   "outputs": [],
   "source": [
    "for key in retrieved.keys():\n",
    "    entries[key] = []\n",
    "\n",
    "    \n",
    "for key, features in zip(retrieved.keys(), retrieved.values()):\n",
    "    for feature in features:\n",
    "        entrie = [feature['geometry']['coordinates']]\n",
    "        if 'name' in feature['properties'].keys():\n",
    "            entrie.append(feature['properties']['name'])\n",
    "        entries[key].append(entrie)"
   ]
  },
  {
   "cell_type": "code",
   "execution_count": 321,
   "metadata": {},
   "outputs": [
    {
     "data": {
      "text/plain": [
       "[[[50.2944917, 53.2112578], 'Самарка']]"
      ]
     },
     "execution_count": 321,
     "metadata": {},
     "output_type": "execute_result"
    }
   ],
   "source": [
    "entries['railway_station']"
   ]
  },
  {
   "cell_type": "code",
   "execution_count": null,
   "metadata": {},
   "outputs": [],
   "source": []
  },
  {
   "cell_type": "code",
   "execution_count": null,
   "metadata": {},
   "outputs": [],
   "source": []
  }
 ],
 "metadata": {
  "kernelspec": {
   "display_name": "Python 3",
   "language": "python",
   "name": "python3"
  },
  "language_info": {
   "codemirror_mode": {
    "name": "ipython",
    "version": 3
   },
   "file_extension": ".py",
   "mimetype": "text/x-python",
   "name": "python",
   "nbconvert_exporter": "python",
   "pygments_lexer": "ipython3",
   "version": "3.6.7"
  }
 },
 "nbformat": 4,
 "nbformat_minor": 2
}
