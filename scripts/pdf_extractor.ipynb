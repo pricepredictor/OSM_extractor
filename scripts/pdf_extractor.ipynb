{
 "cells": [
  {
   "cell_type": "code",
   "execution_count": 24,
   "metadata": {},
   "outputs": [],
   "source": [
    "import json\n",
    "import itertools\n",
    "\n",
    "with open('../geojson-data/v2/smr.geojson') as f:\n",
    "    city = json.load(f)"
   ]
  },
  {
   "cell_type": "code",
   "execution_count": 27,
   "metadata": {},
   "outputs": [],
   "source": [
    "features = city['features']\n",
    "\n",
    "with_amenity = [f for f in features if 'amenity' in f['properties'].keys()]\n"
   ]
  },
  {
   "cell_type": "code",
   "execution_count": 29,
   "metadata": {},
   "outputs": [],
   "source": [
    "relevant_amenities = ['fast_food', 'cafe', 'restaurant', 'nightclub', 'stripclub', \n",
    "                 'pub', 'bar', 'courthouse', 'register_office', 'townhall', \n",
    "                 'public_building', 'police', 'place_of_worship', 'fountain', \n",
    "                 'library', 'theatre', 'clinic', 'hospital', 'bank', 'university',\n",
    "                 'school', 'cinema']\n",
    "\n",
    "entries = {a: [] for a in relevant_amenities}\n",
    "for feature in with_amenity:\n",
    "    amenity = feature['properties']['amenity']\n",
    "    if amenity in relevant_amenities:\n",
    "        entrie = [feature['geometry']['coordinates']]\n",
    "        if 'name' in feature['properties'].keys():\n",
    "            entrie.append(feature['properties']['name'])\n",
    "        entries[amenity].append(entrie)\n",
    "        \n",
    "def retreive(tag, value=None): \n",
    "    res = [f for f in with_other_tags if tag in f['properties'].keys()]\n",
    "    if not value is None:\n",
    "        res = [ f for f in res if f['properties'][tag] == value]\n",
    "    return res\n",
    "\n",
    "\n",
    "retrieved = {\n",
    "    'public_transport': retreive('public_transport'),\n",
    "    'tram_stop': retreive('railway', 'tram_stop'),\n",
    "    'subway_station': retreive('station', 'subway'),\n",
    "    'shop': retreive('shop'),\n",
    "    'sport_center': retreive('leisure', 'sports_centre'),\n",
    "    'playground': retreive('leisure', 'playground'),\n",
    "    'railway': retreive('railway'),\n",
    "    'office': retreive('office'),\n",
    "    'monument': retreive('historic', 'monument'),\n",
    "    'memorial': retreive('historic', 'memorial'),\n",
    "    'fitness_centre': retreive('leisure', 'fitness_centre'),\n",
    "    'motel': retreive('tourism', 'motel'),\n",
    "    'hotel': retreive('tourism', 'hotel'),\n",
    "    'hostel': retreive('tourism', 'hostel'),\n",
    "    'artwork': retreive('tourism', 'artwork')\n",
    "}"
   ]
  },
  {
   "cell_type": "code",
   "execution_count": 32,
   "metadata": {},
   "outputs": [],
   "source": [
    "for key in retrieved.keys():\n",
    "    entries[key] = []\n",
    "\n",
    "    \n",
    "for key, features in zip(retrieved.keys(), retrieved.values()):\n",
    "    for feature in features:\n",
    "        entrie = [feature['geometry']['coordinates']]\n",
    "        if 'name' in feature['properties'].keys():\n",
    "            entrie.append(feature['properties']['name'])\n",
    "        entries[key].append(entrie)"
   ]
  },
  {
   "cell_type": "code",
   "execution_count": 33,
   "metadata": {},
   "outputs": [
    {
     "data": {
      "text/plain": [
       "[[[50.2694783, 53.2112433], 'Кировская'],\n",
       " [[50.2825835, 53.212474], 'Юнгородок'],\n",
       " [[50.2476557, 53.212475], 'Безымянка'],\n",
       " [[50.2357699, 53.2069832], 'Победа'],\n",
       " [[50.2204405, 53.2015543], 'Советская'],\n",
       " [[50.1995781, 53.2009557], 'Спортивная'],\n",
       " [[50.1765124, 53.2002741], 'Гагаринская'],\n",
       " [[50.1604963, 53.2028088], 'Московская'],\n",
       " [[50.1489865, 53.2119179], 'Российская'],\n",
       " [[50.1341954, 53.2095756], 'Алабинская']]"
      ]
     },
     "execution_count": 33,
     "metadata": {},
     "output_type": "execute_result"
    }
   ],
   "source": [
    "entries['subway_station']"
   ]
  },
  {
   "cell_type": "code",
   "execution_count": 34,
   "metadata": {},
   "outputs": [],
   "source": [
    "with open('../extracted-entries/smr.json', 'w') as fp:\n",
    "    json.dump(entries, fp)"
   ]
  },
  {
   "cell_type": "code",
   "execution_count": null,
   "metadata": {},
   "outputs": [],
   "source": []
  }
 ],
 "metadata": {
  "kernelspec": {
   "display_name": "Python 3",
   "language": "python",
   "name": "python3"
  },
  "language_info": {
   "codemirror_mode": {
    "name": "ipython",
    "version": 3
   },
   "file_extension": ".py",
   "mimetype": "text/x-python",
   "name": "python",
   "nbconvert_exporter": "python",
   "pygments_lexer": "ipython3",
   "version": "3.6.7"
  }
 },
 "nbformat": 4,
 "nbformat_minor": 2
}
